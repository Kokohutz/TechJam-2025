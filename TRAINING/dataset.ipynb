{
 "cells": [
  {
   "cell_type": "code",
   "execution_count": 2,
   "id": "f29e6182",
   "metadata": {},
   "outputs": [],
   "source": [
    "import os\n",
    "import json\n",
    "import polars as pl\n",
    "\n",
    "import yaml\n",
    "import shutil"
   ]
  },
  {
   "cell_type": "code",
   "execution_count": 6,
   "id": "5f5247cf",
   "metadata": {},
   "outputs": [],
   "source": [
    "baseFolder = './roboflow/'\n",
    "\n",
    "dataset1_path = os.path.join(baseFolder, \"Document-Segmentation-2\")\n",
    "dataset2_path = os.path.join(baseFolder, \"ID-Cards-Segmentation-1\")\n",
    "output_path = \"datasets\""
   ]
  },
  {
   "cell_type": "code",
   "execution_count": 8,
   "id": "124d5b41",
   "metadata": {},
   "outputs": [
    {
     "data": {
      "text/plain": [
       "('./roboflow/Document-Segmentation-2', './roboflow/ID-Cards-Segmentation-1')"
      ]
     },
     "execution_count": 8,
     "metadata": {},
     "output_type": "execute_result"
    }
   ],
   "source": [
    "dataset1_path, dataset2_path"
   ]
  },
  {
   "cell_type": "code",
   "execution_count": 11,
   "id": "a45e5238",
   "metadata": {},
   "outputs": [
    {
     "name": "stdout",
     "output_type": "stream",
     "text": [
      "Dataset 1 classes:\n",
      "  0: 0\n",
      "\n",
      "Dataset 2 classes:\n",
      "  0: Cards\n",
      "  1: Lanyard\n"
     ]
    }
   ],
   "source": [
    "with open(f\"{dataset1_path}/data.yaml\", 'r') as f:\n",
    "    yaml1 = yaml.safe_load(f)\n",
    "with open(f\"{dataset2_path}/data.yaml\", 'r') as f:\n",
    "    yaml2 = yaml.safe_load(f)\n",
    "\n",
    "def get_class_names(yaml_data):\n",
    "    if isinstance(yaml_data['names'], dict):\n",
    "        return yaml_data['names']\n",
    "    else:\n",
    "        return {i: name for i, name in enumerate(yaml_data['names'])}\n",
    "\n",
    "names1 = get_class_names(yaml1)\n",
    "names2 = get_class_names(yaml2)\n",
    "\n",
    "print(\"Dataset 1 classes:\")\n",
    "for i, name in names1.items():\n",
    "    print(f\"  {i}: {name}\")\n",
    "print(\"\\nDataset 2 classes:\")\n",
    "for i, name in names2.items():\n",
    "    print(f\"  {i}: {name}\")\n",
    "\n",
    "# selections = input(\"\\nEnter classes (format: 1:0,1:2,2:1): \").split(',')"
   ]
  },
  {
   "cell_type": "code",
   "execution_count": 13,
   "id": "d7feceea",
   "metadata": {},
   "outputs": [
    {
     "name": "stdout",
     "output_type": "stream",
     "text": [
      "Merged: 2 classes, 0 train, 0 valid\n"
     ]
    }
   ],
   "source": [
    "chosen_classes = {\n",
    "    'Lanyard': ['Lanyard'],\n",
    "    'ID Card': ['0'],\n",
    "}\n",
    "\n",
    "with open(f\"{dataset1_path}/data.yaml\", 'r') as f:\n",
    "    yaml1 = yaml.safe_load(f)\n",
    "with open(f\"{dataset2_path}/data.yaml\", 'r') as f:\n",
    "    yaml2 = yaml.safe_load(f)\n",
    "\n",
    "names1 = {i: name for i, name in enumerate(yaml1['names'])} if isinstance(yaml1['names'], list) else yaml1['names']\n",
    "names2 = {i: name for i, name in enumerate(yaml2['names'])} if isinstance(yaml2['names'], list) else yaml2['names']\n",
    "\n",
    "class_mapping = {}\n",
    "new_class_names = []\n",
    "\n",
    "for new_class_idx, (new_class_name, old_class_names) in enumerate(chosen_classes.items()):\n",
    "    new_class_names.append(new_class_name)\n",
    "    for old_class_name in old_class_names:\n",
    "        for class_id, name in names1.items():\n",
    "            if name == old_class_name:\n",
    "                class_mapping[f\"1:{class_id}\"] = new_class_idx\n",
    "        for class_id, name in names2.items():\n",
    "            if name == old_class_name:\n",
    "                class_mapping[f\"2:{class_id}\"] = new_class_idx\n",
    "\n",
    "os.makedirs(f\"{output_path}/train\", exist_ok=True)\n",
    "os.makedirs(f\"{output_path}/valid\", exist_ok=True)\n",
    "\n",
    "datasets = [(dataset1_path, 1), (dataset2_path, 2)]\n",
    "\n",
    "for dataset_path, dataset_num in datasets:\n",
    "    for split in ['train', 'valid']:\n",
    "        split_path = f\"{dataset_path}/{split}\"\n",
    "        \n",
    "        if not os.path.exists(split_path):\n",
    "            continue\n",
    "            \n",
    "        for file in os.listdir(split_path):\n",
    "            if file.lower().endswith(('.jpg', '.jpeg', '.png', '.bmp')):\n",
    "                base_name = os.path.splitext(file)[0]\n",
    "                label_file = f\"{split_path}/{base_name}.txt\"\n",
    "                \n",
    "                if os.path.exists(label_file):\n",
    "                    with open(label_file, 'r') as f:\n",
    "                        lines = f.readlines()\n",
    "                    \n",
    "                    new_lines = []\n",
    "                    for line in lines:\n",
    "                        parts = line.strip().split()\n",
    "                        if len(parts) >= 5:\n",
    "                            old_class_id = int(parts[0])\n",
    "                            key = f\"{dataset_num}:{old_class_id}\"\n",
    "                            if key in class_mapping:\n",
    "                                new_class_id = class_mapping[key]\n",
    "                                new_lines.append(f\"{new_class_id} {' '.join(parts[1:])}\\n\")\n",
    "                    \n",
    "                    if new_lines:\n",
    "                        new_img_name = f\"ds{dataset_num}_{file}\"\n",
    "                        new_label_name = f\"ds{dataset_num}_{base_name}.txt\"\n",
    "                        shutil.copy2(f\"{split_path}/{file}\", f\"{output_path}/{split}/{new_img_name}\")\n",
    "                        with open(f\"{output_path}/{split}/{new_label_name}\", 'w') as f:\n",
    "                            f.writelines(new_lines)\n",
    "\n",
    "merged_yaml = {\n",
    "    'names': new_class_names,\n",
    "    'nc': len(new_class_names),\n",
    "    'path': output_path,\n",
    "    'train': \"train\",\n",
    "    'val': \"valid\"\n",
    "}\n",
    "\n",
    "with open(f\"{output_path}/data.yaml\", 'w') as f:\n",
    "    yaml.dump(merged_yaml, f, default_flow_style=False)\n",
    "\n",
    "train_count = len([f for f in os.listdir(f\"{output_path}/train\") if f.lower().endswith(('.jpg', '.jpeg', '.png', '.bmp'))])\n",
    "valid_count = len([f for f in os.listdir(f\"{output_path}/valid\") if f.lower().endswith(('.jpg', '.jpeg', '.png', '.bmp'))])\n",
    "\n",
    "print(f\"Merged: {len(new_class_names)} classes, {train_count} train, {valid_count} valid\")"
   ]
  },
  {
   "cell_type": "code",
   "execution_count": null,
   "id": "cb683efb",
   "metadata": {},
   "outputs": [],
   "source": []
  }
 ],
 "metadata": {
  "kernelspec": {
   "display_name": "ITdev",
   "language": "python",
   "name": "python3"
  },
  "language_info": {
   "codemirror_mode": {
    "name": "ipython",
    "version": 3
   },
   "file_extension": ".py",
   "mimetype": "text/x-python",
   "name": "python",
   "nbconvert_exporter": "python",
   "pygments_lexer": "ipython3",
   "version": "3.10.16"
  }
 },
 "nbformat": 4,
 "nbformat_minor": 5
}
